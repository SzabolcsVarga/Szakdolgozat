{
 "cells": [
  {
   "cell_type": "code",
   "execution_count": 1,
   "id": "0ecae945",
   "metadata": {
    "tags": []
   },
   "outputs": [],
   "source": [
    "import requests"
   ]
  },
  {
   "cell_type": "code",
   "execution_count": 2,
   "id": "7464c405",
   "metadata": {},
   "outputs": [],
   "source": [
    "import pandas as pd"
   ]
  },
  {
   "cell_type": "code",
   "execution_count": 3,
   "id": "fe1665df",
   "metadata": {},
   "outputs": [
    {
     "name": "stdout",
     "output_type": "stream",
     "text": [
      "Collecting ipython-beautifulsoup[bs4]\n",
      "  Downloading ipython_beautifulsoup-0.3-py2.py3-none-any.whl (7.4 kB)\n",
      "Requirement already satisfied: ipython in /opt/conda/lib/python3.8/site-packages (from ipython-beautifulsoup[bs4]) (7.22.0)\n",
      "Requirement already satisfied: beautifulsoup4 in /opt/conda/lib/python3.8/site-packages (from ipython-beautifulsoup[bs4]) (4.9.3)\n",
      "Requirement already satisfied: pygments in /opt/conda/lib/python3.8/site-packages (from ipython-beautifulsoup[bs4]) (2.8.1)\n",
      "Requirement already satisfied: soupsieve>1.2 in /opt/conda/lib/python3.8/site-packages (from beautifulsoup4->ipython-beautifulsoup[bs4]) (2.0.1)\n",
      "Requirement already satisfied: traitlets>=4.2 in /opt/conda/lib/python3.8/site-packages (from ipython->ipython-beautifulsoup[bs4]) (5.0.5)\n",
      "Requirement already satisfied: setuptools>=18.5 in /opt/conda/lib/python3.8/site-packages (from ipython->ipython-beautifulsoup[bs4]) (49.6.0.post20210108)\n",
      "Requirement already satisfied: decorator in /opt/conda/lib/python3.8/site-packages (from ipython->ipython-beautifulsoup[bs4]) (5.0.6)\n",
      "Requirement already satisfied: prompt-toolkit!=3.0.0,!=3.0.1,<3.1.0,>=2.0.0 in /opt/conda/lib/python3.8/site-packages (from ipython->ipython-beautifulsoup[bs4]) (3.0.18)\n",
      "Requirement already satisfied: backcall in /opt/conda/lib/python3.8/site-packages (from ipython->ipython-beautifulsoup[bs4]) (0.2.0)\n",
      "Requirement already satisfied: jedi>=0.16 in /opt/conda/lib/python3.8/site-packages (from ipython->ipython-beautifulsoup[bs4]) (0.18.0)\n",
      "Requirement already satisfied: pexpect>4.3 in /opt/conda/lib/python3.8/site-packages (from ipython->ipython-beautifulsoup[bs4]) (4.8.0)\n",
      "Requirement already satisfied: pickleshare in /opt/conda/lib/python3.8/site-packages (from ipython->ipython-beautifulsoup[bs4]) (0.7.5)\n",
      "Requirement already satisfied: parso<0.9.0,>=0.8.0 in /opt/conda/lib/python3.8/site-packages (from jedi>=0.16->ipython->ipython-beautifulsoup[bs4]) (0.8.2)\n",
      "Requirement already satisfied: ptyprocess>=0.5 in /opt/conda/lib/python3.8/site-packages (from pexpect>4.3->ipython->ipython-beautifulsoup[bs4]) (0.7.0)\n",
      "Requirement already satisfied: wcwidth in /opt/conda/lib/python3.8/site-packages (from prompt-toolkit!=3.0.0,!=3.0.1,<3.1.0,>=2.0.0->ipython->ipython-beautifulsoup[bs4]) (0.2.5)\n",
      "Requirement already satisfied: ipython-genutils in /opt/conda/lib/python3.8/site-packages (from traitlets>=4.2->ipython->ipython-beautifulsoup[bs4]) (0.2.0)\n",
      "Installing collected packages: ipython-beautifulsoup\n",
      "Successfully installed ipython-beautifulsoup-0.3\n",
      "Note: you may need to restart the kernel to use updated packages.\n"
     ]
    }
   ],
   "source": [
    "pip install \"ipython-beautifulsoup[bs4]\""
   ]
  },
  {
   "cell_type": "code",
   "execution_count": 4,
   "id": "fc86b969",
   "metadata": {
    "tags": []
   },
   "outputs": [],
   "source": [
    "from bs4 import BeautifulSoup"
   ]
  },
  {
   "cell_type": "code",
   "execution_count": 5,
   "id": "3aae0cca",
   "metadata": {},
   "outputs": [],
   "source": [
    "headers = {'User-Agent': \n",
    "           'Mozilla/5.0 (X11; Linux x86_64) AppleWebKit/537.36 (KHTML, like Gecko) Chrome/47.0.2526.106 Safari/537.36'}"
   ]
  },
  {
   "cell_type": "code",
   "execution_count": 6,
   "id": "ade5ed9c",
   "metadata": {
    "tags": []
   },
   "outputs": [],
   "source": [
    "ListLeagues=[]\n",
    "ListOfTeams=[]\n",
    "ListMarketValue=[]\n",
    "ListOfLinks=[]\n",
    "transfermarkt=\"https://www.transfermarkt.com\"\n",
    "for i in range(1,5):\n",
    "    testpage=\"https://www.transfermarkt.com/vereins-statistik/wertvollstemannschaften/marktwertetop/plus/land_id/157/kontinent_id/6/yt0/Show/0//page/\"+str(i)\n",
    "    pageTree= requests.get(testpage,headers=headers)\n",
    "    pageSoup=BeautifulSoup(pageTree.content,'html.parser')\n",
    "    teams=pageSoup.find_all(\"td\", {\"class\": \"no-border-links hauptlink\"})\n",
    "    league=pageSoup.find_all(\"td\", {\"class\": \"links\"})\n",
    "    values=pageSoup.find_all(\"td\", {\"class\": \"rechts\"})\n",
    "    links=pageSoup.select(\"a.vereinprofil_tooltip\")\n",
    "    for j in range(0,25):\n",
    "        ListLeagues.append(league[j].text)\n",
    "        ListOfTeams.append(teams[j].text)\n",
    "        ListMarketValue.append(values[j].text)\n",
    "    for j in range(0,50,2):\n",
    "        ListOfLinks.append(transfermarkt+links[j].get(\"href\"))\n",
    "        "
   ]
  },
  {
   "cell_type": "code",
   "execution_count": 7,
   "id": "92495788",
   "metadata": {
    "tags": []
   },
   "outputs": [],
   "source": [
    "df=pd.DataFrame({\"Team\":ListOfTeams,\"League\":ListLeagues,\"Value\":ListMarketValue,\"Link\":ListOfLinks})"
   ]
  },
  {
   "cell_type": "code",
   "execution_count": 8,
   "id": "78b22bce",
   "metadata": {
    "tags": []
   },
   "outputs": [],
   "source": [
    "df.to_csv(\"data_csv/laliga_market_values.csv\")"
   ]
  },
  {
   "cell_type": "code",
   "execution_count": 9,
   "id": "9ceef093",
   "metadata": {},
   "outputs": [],
   "source": [
    "page=\"https://www.transfermarkt.com/laliga/tabelle/wettbewerb/ES1?saison_id=2020\"\n",
    "pageTree= requests.get(page,headers=headers)\n",
    "pageSoup=BeautifulSoup(pageTree.content,'html.parser')\n",
    "table=pageSoup.find('div' ,{\"class\":\"responsive-table\"})"
   ]
  },
  {
   "cell_type": "code",
   "execution_count": 10,
   "id": "96e5cbcd",
   "metadata": {},
   "outputs": [],
   "source": [
    "for i in range(2020,2008,-1):\n",
    "    page=\"https://www.transfermarkt.com/laliga/tabelle/wettbewerb/ES1?saison_id=\"+str(i)\n",
    "    pageTree= requests.get(page,headers=headers)\n",
    "    pageSoup=BeautifulSoup(pageTree.content,'html.parser')\n",
    "    table=pageSoup.find('div' ,{\"class\":\"responsive-table\"})\n",
    "    ListPlace=[]\n",
    "    ListName=[]\n",
    "    ListMP=[]\n",
    "    ListW=[]\n",
    "    ListD=[]\n",
    "    ListL=[]\n",
    "    ListG=[]\n",
    "    ListGD=[]\n",
    "    ListP=[]\n",
    "    for team in table.find_all('tbody'):\n",
    "        rows=team.find_all('tr')\n",
    "        for row in rows:\n",
    "            place=name=row.find('td',{\"class\":\"rechts hauptlink\"}).text.strip()\n",
    "            name=row.find('td',{\"class\":\"no-border-links hauptlink\"}).text.strip()\n",
    "            stats= row.find_all('td',{\"class\":\"zentriert\"})\n",
    "            ListPlace.append(place)\n",
    "            ListName.append(name)\n",
    "            ListMP.append(stats[1].text)\n",
    "            ListW.append(stats[2].text)\n",
    "            ListD.append(stats[3].text)\n",
    "            ListL.append(stats[4].text)\n",
    "            ListG.append(stats[5].text)\n",
    "            ListGD.append(stats[6].text)\n",
    "            ListP.append(stats[7].text)\n",
    "    Table=pd.DataFrame({\"Team\":ListName,\"Match Played\":ListMP,\"Won\":ListW,\"Loose\":ListL,\"Goals\":ListG,\"Goal Difference\":ListGD,\"Points\":ListP},index=ListPlace)\n",
    "    tablepath=\"data_csv/standings\"+\"-\"+str(i+1)+\"-\"+str(i)+\".csv\"\n",
    "    Table.to_csv(tablepath)"
   ]
  },
  {
   "cell_type": "code",
   "execution_count": 11,
   "id": "4915d9cf",
   "metadata": {},
   "outputs": [
    {
     "name": "stdout",
     "output_type": "stream",
     "text": [
      "<class 'pandas.core.frame.DataFrame'>\n",
      "Index: 20 entries, 1 to 20\n",
      "Data columns (total 7 columns):\n",
      " #   Column           Non-Null Count  Dtype \n",
      "---  ------           --------------  ----- \n",
      " 0   Team             20 non-null     object\n",
      " 1   Match Played     20 non-null     object\n",
      " 2   Won              20 non-null     object\n",
      " 3   Loose            20 non-null     object\n",
      " 4   Goals            20 non-null     object\n",
      " 5   Goal Difference  20 non-null     object\n",
      " 6   Points           20 non-null     object\n",
      "dtypes: object(7)\n",
      "memory usage: 1.2+ KB\n"
     ]
    }
   ],
   "source": [
    "Table.info()"
   ]
  },
  {
   "cell_type": "code",
   "execution_count": null,
   "id": "8ae232af",
   "metadata": {},
   "outputs": [],
   "source": []
  }
 ],
 "metadata": {
  "kernelspec": {
   "display_name": "Python 3",
   "language": "python",
   "name": "python3"
  },
  "language_info": {
   "codemirror_mode": {
    "name": "ipython",
    "version": 3
   },
   "file_extension": ".py",
   "mimetype": "text/x-python",
   "name": "python",
   "nbconvert_exporter": "python",
   "pygments_lexer": "ipython3",
   "version": "3.9.2"
  }
 },
 "nbformat": 4,
 "nbformat_minor": 5
}
